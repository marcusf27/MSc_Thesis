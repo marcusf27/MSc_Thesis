{
 "cells": [
  {
   "cell_type": "markdown",
   "id": "d1eacbc1",
   "metadata": {},
   "source": [
    "# **Ladda ner grejer och importera** \n",
    "\n",
    "1. AndroZooCrawler för att ladda ner korrekta program som finns i Rui's analys.\n",
    "2. För varje version som laddas ner :\n",
    " - Gå in i nedladdade project\n",
    " - Unzipa senaste\n",
    " - Skicka till CodeScene analys\n",
    " - Sammanställ data\n",
    " - Radera aktuella versionen, allt som ej är den sammanställda datan\n",
    "3. Klippa o klistra med Rui's data och vår CodeScene analys data"
   ]
  },
  {
   "cell_type": "code",
   "execution_count": null,
   "id": "7f0f278f",
   "metadata": {},
   "outputs": [],
   "source": [
    "for project in Rui:\n",
    "    path = download(project)\n",
    "    res = doAllVersionStuff(path)\n",
    "    \n",
    "    if res:\n",
    "        remove(project)\n",
    "\n",
    "        \n",
    "        \n",
    "def doMathStuff(CSV_files):\n",
    "    Pearson_correlation_coefficient()\n",
    "    "
   ]
  },
  {
   "cell_type": "code",
   "execution_count": null,
   "id": "58ff7f65",
   "metadata": {},
   "outputs": [],
   "source": [
    "def doAllVersionStuff(path, maybe, more, variables):\n",
    "    unzip()\n",
    "    runCodeSceneAnalysis()\n",
    "    documentData()\n",
    "    return True"
   ]
  },
  {
   "cell_type": "code",
   "execution_count": null,
   "id": "fdb4fca1",
   "metadata": {},
   "outputs": [],
   "source": []
  },
  {
   "cell_type": "code",
   "execution_count": null,
   "id": "56b8e402",
   "metadata": {},
   "outputs": [],
   "source": []
  }
 ],
 "metadata": {
  "kernelspec": {
   "display_name": "Python 3 (ipykernel)",
   "language": "python",
   "name": "python3"
  },
  "language_info": {
   "codemirror_mode": {
    "name": "ipython",
    "version": 3
   },
   "file_extension": ".py",
   "mimetype": "text/x-python",
   "name": "python",
   "nbconvert_exporter": "python",
   "pygments_lexer": "ipython3",
   "version": "3.11.4"
  }
 },
 "nbformat": 4,
 "nbformat_minor": 5
}
